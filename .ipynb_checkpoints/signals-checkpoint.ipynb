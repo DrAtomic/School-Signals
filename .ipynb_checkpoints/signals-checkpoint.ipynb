{
 "cells": [
  {
   "cell_type": "markdown",
   "metadata": {},
   "source": [
    "Consider a linear positioning system. Its dynamics is described in the differential\n",
    "equation\n",
    "$$ \\ddot{y}(t) + \\dot{y}(t) + 2y(t) = u(t) $$\n",
    "\n",
    "where $y(t)$ is the position, $\\dot{y}(t)$ the velocity $\\ddot{y}(t)$ the acceleration and u(t) the input force\n",
    "\n",
    "There are sensors that measure the position y(t) and the velocity dy/dt. The goal\n",
    "is to design an automatic system with feedback such that the position can be\n",
    "commanded to move from one location to another. The position and the velocity\n",
    "are available for the feedback design, if you choose to use any of them.\n",
    "The design criteria are based on the system's unit step response. They are:\n",
    "\n",
    "1) Zero steady-state error as the position is commanded to move to a new location.\n",
    "\n",
    "2) The overshoot is limited to 5%.\n",
    "\n",
    "3) The positioning settles within 2% of the target step in 1 second\n",
    "\n",
    "Your task is to design the automated system with two approaches, one by transfer\n",
    "functions and another by state-space model.\n",
    "\n",
    "Present your design with (a) numerical specifics of the elements,\n",
    "(b) block diagrams that show the configuration of the design, and (c) simulated\n",
    "step responses to show the extent to which the design meets the criteria."
   ]
  },
  {
   "cell_type": "markdown",
   "metadata": {},
   "source": [
    "# State space"
   ]
  },
  {
   "cell_type": "markdown",
   "metadata": {},
   "source": [
    "\n",
    "$$ \\ddot{y}(t) + \\dot{y}(t) + 2y(t) = u(t) $$\n",
    "$$x_1 = y(t)$$\n",
    "$$x_2 = \\dot{x_1} = \\dot{y}(t)$$\n",
    "$$ x_3 = \\dot{x_2} =\\ddot{y}(t) $$\n",
    "\n",
    "re written\n",
    "$$ \\dot{x_1} = 0 x_1 + 1 x_2 + 0 u(t)$$\n",
    "$$ \\dot{x_2} = -2x_1 + -3 x_2 + 1 u(t)$$\n",
    "state space equations \n",
    "\n",
    "The goal is to be able to change the position so the output of ht system is x1\n",
    "\n",
    "$$ \\begin{pmatrix}\n",
    " \\dot{x_1} \\\\\n",
    " \\dot{x_2} \n",
    " \\end{pmatrix} = \\begin{pmatrix}\n",
    " 0 & 1 \\\\\n",
    " -2 & -3 \n",
    " \\end{pmatrix} \\begin{pmatrix}\n",
    " x_1 \\\\\n",
    " x_2 \n",
    " \\end{pmatrix} + \\begin{pmatrix}\n",
    " 0 \\\\\n",
    " 1 \n",
    " \\end{pmatrix}[u] $$\n",
    "\n",
    "$$ y = \\begin{pmatrix}\n",
    " 1 & 0 \n",
    " \\end{pmatrix}\\begin{pmatrix}\n",
    " x_1 \\\\\n",
    " x_2 \n",
    " \\end{pmatrix} $$\n",
    "\n",
    "I'll use constant gains to fulfill desired requirements\n",
    "\n",
    "![picture](constant_gain.jpg)\n",
    "\n",
    "I tried a few poles and found that $-10 \\pm 2i$ worked"
   ]
  },
  {
   "cell_type": "code",
   "execution_count": 1,
   "metadata": {},
   "outputs": [],
   "source": [
    "import numpy as np\n",
    "import control as ctl\n",
    "import control.matlab as cnt\n",
    "import matplotlib.pyplot as plt\n",
    "%matplotlib inline\n",
    "\n",
    "# original system\n",
    "A = np.array([[0,   1],\n",
    "              [-2, -3]])\n",
    "\n",
    "B = np.array([[0],\n",
    "              [1]])\n",
    "\n",
    "C = np.array([1, 0])\n",
    "\n",
    "D = 0\n"
   ]
  },
  {
   "cell_type": "code",
   "execution_count": 2,
   "metadata": {},
   "outputs": [
    {
     "name": "stdout",
     "output_type": "stream",
     "text": [
      "\n",
      "ORIGINAL poles \n",
      "\n",
      "[-1. -2.]\n",
      "\n",
      "ORIGINAL stepinfo \n",
      "\n",
      "{'RiseTime': 2.571571571571572, 'SettlingTime': 4.51951951951952, 'SettlingMin': 0.44937395164782773, 'SettlingMax': 0.4990885337988053, 'Overshoot': 0.0, 'Undershoot': 0.0, 'Peak': 0.4990885337988053, 'PeakTime': 7.0, 'SteadyStateValue': 0.4990885337988053}\n"
     ]
    },
    {
     "data": {
      "image/png": "[encoded data removed]",
      "text/plain": [
       "<Figure size 432x288 with 1 Axes>"
      ]
     },
     "metadata": {
      "needs_background": "light"
     },
     "output_type": "display_data"
    }
   ],
   "source": [
    "original_ss = ctl.ss(A,B,C,D)\n",
    "print('\\nORIGINAL poles \\n')\n",
    "print(ctl.pole(original_ss))\n",
    "print('\\nORIGINAL stepinfo \\n')\n",
    "print(ctl.step_info(original_ss))\n",
    "T, yout = ctl.step_response(original_ss)\n",
    "plt.grid(True)\n",
    "plt.title('Original system step response')\n",
    "plt.xlabel('seconds')\n",
    "plt.ylabel('amplitude')\n",
    "plt.plot(T,yout)\n",
    "\n",
    "plt.show()"
   ]
  },
  {
   "cell_type": "code",
   "execution_count": 3,
   "metadata": {},
   "outputs": [
    {
     "name": "stdout",
     "output_type": "stream",
     "text": [
      "A = [[   0.    1.]\n",
      " [-104.  -20.]]\n",
      "\n",
      "B = [[  0.        ]\n",
      " [104.40684068]]\n",
      "\n",
      "C = [[1. 0.]]\n",
      "\n",
      "D = [[0.]]\n",
      "\n",
      "FINAL poles \n",
      "\n",
      "[-10.+2.j -10.-2.j]\n",
      "\n",
      " K is equal to 104.4068406840684\n",
      "\n",
      "\n",
      "FINAL step info\n",
      "{'RiseTime': 0.3153153153153156, 'SettlingTime': 0.5290290290290296, 'SettlingMin': 0.8994102337846175, 'SettlingMax': 0.999245687618023, 'Overshoot': 0.0, 'Undershoot': 0.0, 'Peak': 0.999245687618023, 'PeakTime': 0.7000000000000007, 'SteadyStateValue': 0.999245687618023}\n"
     ]
    },
    {
     "data": {
      "text/plain": [
       "[<matplotlib.lines.Line2D at 0x7f7ad2526610>]"
      ]
     },
     "execution_count": 3,
     "metadata": {},
     "output_type": "execute_result"
    },
    {
     "data": {
      "image/png": "[encoded data removed]",
      "text/plain": [
       "<Figure size 432x288 with 1 Axes>"
      ]
     },
     "metadata": {
      "needs_background": "light"
     },
     "output_type": "display_data"
    }
   ],
   "source": [
    "# I want the poles to be -10+/-2i this should give appropriate rise time\n",
    "# it will find a value of input gain where overshoot is very very close to 0\n",
    "poles = [-10+2j, -10-2j]\n",
    "\n",
    "input_gain_array = np.linspace(1,1000,10000)\n",
    "\n",
    "for i in input_gain_array:\n",
    "    \n",
    "    B = np.array([[0],\n",
    "                  [i]])\n",
    "    \n",
    "    K = ctl.place(A,B,poles)\n",
    "    closed_loop = A - B*K\n",
    "    final_ss = ctl.ss(closed_loop,B,C,D)\n",
    "    y = ctl.step_info(final_ss)\n",
    "    if (i == 1000):\n",
    "        print('ERROR: choose a new pole')\n",
    "    if (y.get('Overshoot') < 5.0 and y.get('SettlingTime') < 2.0 and  \\\n",
    "        abs(y.get('SteadyStateValue') - 1) <= 0.001):\n",
    "        break\n",
    "\n",
    "T, yout = ctl.step_response(final_ss)\n",
    "print(final_ss)\n",
    "print('FINAL poles \\n')\n",
    "print(ctl.pole(final_ss))\n",
    "print('\\n K is equal to ' +str(i) +'\\n')\n",
    "print('\\nFINAL step info')\n",
    "print(y)\n",
    "plt.title('step response wiht K= ' + str(i))\n",
    "plt.xlabel('seconds')\n",
    "plt.ylabel('amplitude')\n",
    "plt.grid(True)\n",
    "plt.plot(T,yout)"
   ]
  },
  {
   "cell_type": "markdown",
   "metadata": {},
   "source": [
    "# transfer function"
   ]
  },
  {
   "cell_type": "markdown",
   "metadata": {},
   "source": [
    "$$ \\ddot{y}(t) + \\dot{y}(t) + 2y(t) = u(t) $$\n",
    "looking at the laplace transform table with inital conditions equal to zero\n",
    "\n",
    "$$\\text{L}\\{\\ddot{y}(t)\\} = s^2 Y(s) $$\n",
    "$$ \\text{L}\\{\\dot{y}(t)\\} = sY(s) $$\n",
    "$$ \\text{L} \\{2y(t)\\} = 2Y(S) $$\n",
    "$$\\text{L}\\{u(t)\\} = U(s) $$\n",
    "\n",
    "\n",
    "giving\n",
    "\n",
    "$$ Y(S) (s^2 + 3s + 2) = U(s) $$\n",
    "\n",
    "$$ \\frac{Y(s)}{U(s)} = \\frac{1}{s^2 + 3s + 2} $$\n",
    "\n",
    "Ill use a PID to solve this one, note that only position and velocity are available to us so in my code I will not use the the integral\n",
    "\n",
    "\n",
    "\n",
    "$$ T_f = \\frac{Gc*Gp}{1+Gc*Gp} $$\n",
    "$$ Gc = \\frac{kd (s^2) + kp(s) + ki}{s} $$\n",
    "$$ T_f = \\frac{\\frac{kd (s^2) + kp(s) + ki}{s} * \\frac{1}{s^2 + 3s + 2}}{1 + \\frac{kd (s^2) + kp (s) + ki}{s}* \\frac{1}{s^2 + 3s + 2}} $$\n",
    "\n",
    "which reduces according to \n",
    "\n",
    "https://ctms.engin.umich.edu/CTMS/index.php?example=Introduction&section=ControlPID\n",
    "\n",
    "$$ T_f = \\frac{k_d s^2 + k_p s + k_i}{s^3 + (k_d + 3)s^2 + (k_p + 2)s + ki}  $$\n",
    "\n",
    "Now that I have a transfer function i can use python to find the values of kd kp (ki will remain zero)\n",
    "\n",
    "![picture](pid.jpg)\n",
    "\n",
    "**once again ki = 0**"
   ]
  },
  {
   "cell_type": "code",
   "execution_count": 4,
   "metadata": {},
   "outputs": [
    {
     "name": "stdout",
     "output_type": "stream",
     "text": [
      "ORIGINAL transfer function\n",
      "\n",
      "\n",
      "      1\n",
      "-------------\n",
      "s^2 + 3 s + 2\n",
      "\n"
     ]
    },
    {
     "data": {
      "text/plain": [
       "[<matplotlib.lines.Line2D at 0x7f7ad2489340>]"
      ]
     },
     "execution_count": 4,
     "metadata": {},
     "output_type": "execute_result"
    },
    {
     "data": {
      "image/png": "[encoded data removed]",
      "text/plain": [
       "<Figure size 432x288 with 1 Axes>"
      ]
     },
     "metadata": {
      "needs_background": "light"
     },
     "output_type": "display_data"
    }
   ],
   "source": [
    "num = 1\n",
    "den = [1, 3, 2]\n",
    "original_tf = ctl.tf(num,den)\n",
    "\n",
    "print('ORIGINAL transfer function\\n')\n",
    "print(original_tf)\n",
    "T, yout = ctl.step_response(original_tf)\n",
    "plt.grid(True)\n",
    "plt.title('Original step response')\n",
    "plt.xlabel('seconds')\n",
    "plt.ylabel('amplitude')\n",
    "plt.plot(T,yout)"
   ]
  },
  {
   "cell_type": "code",
   "execution_count": 5,
   "metadata": {},
   "outputs": [
    {
     "name": "stdout",
     "output_type": "stream",
     "text": [
      "kp = 10000.0\n",
      "\n",
      "kd = 409.1224489795918\n",
      "\n",
      "FINAL transfer function\n",
      "\n",
      "\n",
      "   409.1 s^2 + 1e+04 s\n",
      "-------------------------\n",
      "s^3 + 412.1 s^2 + 1e+04 s\n",
      "\n",
      "FINAL stepinfo\n",
      "{'RiseTime': 0.004870340717044046, 'SettlingTime': 0.044915364390517305, 'SettlingMin': 0.9095794173608415, 'SettlingMax': 1.0398112071436438, 'Overshoot': 3.995869392036325, 'Undershoot': 0.0, 'Peak': 1.0398112071436438, 'PeakTime': 0.01542274560397281, 'SteadyStateValue': 0.9998581801589028}\n",
      "\n"
     ]
    },
    {
     "data": {
      "text/plain": [
       "[<matplotlib.lines.Line2D at 0x7f7ad247a070>]"
      ]
     },
     "execution_count": 5,
     "metadata": {},
     "output_type": "execute_result"
    },
    {
     "data": {
      "image/png": "[encoded data removed]",
      "text/plain": [
       "<Figure size 432x288 with 1 Axes>"
      ]
     },
     "metadata": {
      "needs_background": "light"
     },
     "output_type": "display_data"
    }
   ],
   "source": [
    "ki = 0\n",
    "kp_range = np.linspace(1,10000)\n",
    "\n",
    "kd_range = np.linspace(1,10000)\n",
    "\n",
    "for kp in kp_range: \n",
    "    for kd in kd_range: \n",
    "        num = [kd,kp,ki]\n",
    "        den = [1, kd+3,kp+2,ki]\n",
    "        final_tf = ctl.tf(num,den)\n",
    "        y = ctl.step_info(final_tf)\n",
    "        if (y.get('Overshoot') < 5.0 and y.get('SettlingTime') < 2.0 and  \\\n",
    "            abs(y.get('SteadyStateValue') - 1) <= 0.001):\n",
    "            break\n",
    "print('kp = ' + str(kp) + '\\n')\n",
    "print('kd = ' + str(kd) + '\\n')\n",
    "print('FINAL transfer function\\n')\n",
    "print(final_tf)\n",
    "print(\"FINAL stepinfo\")\n",
    "print(str(y) + '\\n')\n",
    "T, yout = ctl.step_response(final_tf)\n",
    "plt.title('step response with kp= ' +str(kp)+ ' kd= ' +str(kd))\n",
    "plt.xlabel('seconds')\n",
    "plt.ylabel('amplitude')\n",
    "plt.grid(True)\n",
    "plt.plot(T,yout)"
   ]
  }
 ],
 "metadata": {
  "kernelspec": {
   "display_name": "Python 3",
   "language": "python",
   "name": "python3"
  },
  "language_info": {
   "codemirror_mode": {
    "name": "ipython",
    "version": 3
   },
   "file_extension": ".py",
   "mimetype": "text/x-python",
   "name": "python",
   "nbconvert_exporter": "python",
   "pygments_lexer": "ipython3",
   "version": "3.9.0"
  }
 },
 "nbformat": 4,
 "nbformat_minor": 4
}
