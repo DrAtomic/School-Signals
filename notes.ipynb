{
 "cells": [
  {
   "cell_type": "markdown",
   "metadata": {},
   "source": [
    "# ODE's\n",
    "Differential equations solutions are a function or a set of functions\n",
    "\n",
    "## linear\n",
    "\n",
    "it needs to have this form\n",
    "\n",
    "$y' + p(t)y = g(t)$\n",
    "\n",
    "The way you solve it is by using the integrating factor\n",
    "\n",
    "$u(t) = e^{\\int p(t)dt}$\n",
    "\n",
    "where $u(t)$ is the integrating factor\n",
    "\n",
    "## seperable\n",
    "\n",
    "has the form\n",
    "\n",
    "$N(y) \\frac{dy}{dx} = M(x)$\n",
    "\n",
    "or \n",
    "\n",
    "$N(y) \\cdot dy = M(x) \\cdot dx$\n",
    "\n",
    "to solve these you simply integrate both sides\n",
    "\n",
    "$\\int N(y) \\cdot dy =\\int M(x) \\cdot dx$\n",
    "\n",
    "## homogenous\n",
    "\n",
    "the strategy to solve these is \n",
    "\n",
    "$v = \\frac{y}{x}$\n",
    "\n",
    "## exact\n",
    "\n",
    "takes the form\n",
    "\n",
    "$M(x,y) + N(x,y)y' = 0$\n",
    "\n",
    "which is\n",
    "\n",
    "$\\frac{\\partial M}{\\partial y} = \\frac{\\partial N}{\\partial y}$"
   ]
  },
  {
   "cell_type": "markdown",
   "metadata": {},
   "source": [
    "## Im going to solve a differenctial equation using pyhton\n",
    "\n",
    "the equations is \n",
    "\n",
    "$\\tau \\frac{dy}{dt} = -y + ku$\n",
    "\n",
    "where $\\tau$ is the time constant and k is the gain u is the unit step \n",
    "\n",
    "I will use $\\tau = 5$ and $k=2$"
   ]
  },
  {
   "cell_type": "code",
   "execution_count": 1,
   "metadata": {},
   "outputs": [],
   "source": [
    "import numpy as np\n",
    "from scipy.integrate import odeint\n",
    "import matplotlib.pyplot as plt\n",
    "%matplotlib inline"
   ]
  },
  {
   "cell_type": "code",
   "execution_count": 2,
   "metadata": {},
   "outputs": [],
   "source": [
    "def first_order(y, t, tau, K, u):\n",
    "    dydt = (-y + K*u(t))/tau\n",
    "    return dydt"
   ]
  },
  {
   "cell_type": "markdown",
   "metadata": {},
   "source": [
    "I need to define the unit step function, it returns 1 if time is greater than 0"
   ]
  },
  {
   "cell_type": "code",
   "execution_count": 3,
   "metadata": {},
   "outputs": [],
   "source": [
    "u = lambda t: 0 if t<0 else 1"
   ]
  },
  {
   "cell_type": "markdown",
   "metadata": {},
   "source": [
    "next I need to define the other constants"
   ]
  },
  {
   "cell_type": "code",
   "execution_count": 4,
   "metadata": {},
   "outputs": [],
   "source": [
    "tau = 5\n",
    "K = 2"
   ]
  },
  {
   "cell_type": "markdown",
   "metadata": {},
   "source": [
    "lastly i need to define the time. this will be from 0 to 10 in increments of 100"
   ]
  },
  {
   "cell_type": "code",
   "execution_count": 5,
   "metadata": {},
   "outputs": [],
   "source": [
    "t = np.linspace(0,10,100)"
   ]
  },
  {
   "cell_type": "code",
   "execution_count": 6,
   "metadata": {},
   "outputs": [],
   "source": [
    "y = odeint(first_order,0,t,args=(tau,K,u))"
   ]
  },
  {
   "cell_type": "markdown",
   "metadata": {},
   "source": [
    "odeint is a library that solves first order differential equations"
   ]
  },
  {
   "cell_type": "code",
   "execution_count": 7,
   "metadata": {},
   "outputs": [
    {
     "data": {
      "text/plain": [
       "Text(0, 0.5, 'amplitude')"
      ]
     },
     "execution_count": 7,
     "metadata": {},
     "output_type": "execute_result"
    },
    {
     "data": {
      "image/png": "[encoded data removed]",
      "text/plain": [
       "<Figure size 432x288 with 1 Axes>"
      ]
     },
     "metadata": {
      "needs_background": "light"
     },
     "output_type": "display_data"
    }
   ],
   "source": [
    "plt.plot(t,y)\n",
    "plt.xlabel(\"seconds\")\n",
    "plt.ylabel(\"amplitude\")"
   ]
  },
  {
   "cell_type": "markdown",
   "metadata": {},
   "source": [
    "we can even change the step function. lets say it starts at 3"
   ]
  },
  {
   "cell_type": "code",
   "execution_count": 8,
   "metadata": {},
   "outputs": [],
   "source": [
    "u = lambda t: 0 if t < 3 else 1"
   ]
  },
  {
   "cell_type": "code",
   "execution_count": 9,
   "metadata": {},
   "outputs": [],
   "source": [
    "y = odeint(first_order,0,t,args=(tau,K,u))"
   ]
  },
  {
   "cell_type": "code",
   "execution_count": 10,
   "metadata": {},
   "outputs": [
    {
     "data": {
      "text/plain": [
       "Text(0, 0.5, 'amplitude')"
      ]
     },
     "execution_count": 10,
     "metadata": {},
     "output_type": "execute_result"
    },
    {
     "data": {
      "image/png": "[encoded data removed]",
      "text/plain": [
       "<Figure size 432x288 with 1 Axes>"
      ]
     },
     "metadata": {
      "needs_background": "light"
     },
     "output_type": "display_data"
    }
   ],
   "source": [
    "plt.plot(t,y)\n",
    "plt.xlabel(\"seconds\")\n",
    "plt.ylabel(\"amplitude\")"
   ]
  },
  {
   "cell_type": "markdown",
   "metadata": {},
   "source": [
    "# systems of differential equations\n",
    "\n",
    "This led me to thinking about systems of differential equations. that takes the form\n",
    "\n",
    "$$x' = Ax$$\n",
    "\n",
    "for example\n",
    "\n",
    "$$\\begin{pmatrix} x_1' \\\\ x_2' \\end{pmatrix} = \\begin{pmatrix} 1 & 2 \\\\ 2 & 4 \\end{pmatrix} \\begin{pmatrix} x_1 \\\\ x_2 \\end{pmatrix}$$\n",
    "\n",
    "This is the first time I've done something like this\n",
    "\n",
    "## determine the eigenvalues\n",
    "\n",
    "first determine the eigenvalues of A via $|A - \\lambda I| = 0$\n",
    "\n",
    "we need to find the values of lambda where the determinant equals 0\n",
    "\n",
    "$$\\begin{vmatrix}\n",
    "1-\\lambda & 2 \\\\\n",
    "2 & 4-\\lambda\n",
    "\\end{vmatrix} = 0 $$\n",
    "\n",
    "$$ (1-\\lambda) (4 -\\lambda) - 2^2 = 0$$\n",
    "\n",
    "$$\\lambda (\\lambda -5) $$\n",
    "\n",
    "$\\lambda = 0$ or $\\lambda = 5$\n",
    "\n",
    "## determine the eigenvectors\n",
    "\n",
    "$$(A - \\lambda I)v=0 $$\n",
    "solve for v\n",
    "\n",
    "### case $\\lambda = 0$\n",
    "\n",
    "$$\\begin{pmatrix} 1 & 2 \\\\ 2 & 4 \\end{pmatrix} \\begin{pmatrix} v_1 \\\\ v_2 \\end{pmatrix} = \\begin{pmatrix} 0 \\\\ 0 \\end{pmatrix}$$\n",
    "\n",
    "\n",
    "$$ v_1 + 2v_2 = 0$$ \n",
    "\n",
    "\n",
    "I'll choose $v_2 = 1$ and $v_1 = -2$\n",
    "\n",
    "so the eigenvector for $\\lambda =0$ will be $\\begin{pmatrix} -2 \\\\ 1 \\end{pmatrix}$ of course you can have any multiple of the eigenvector which will also be an eigenvector\n",
    "\n",
    "### case $\\lambda = 5$\n",
    "\n",
    "$$\\begin{pmatrix} -4 & 2 \\\\ 2 & -1 \\end{pmatrix} \\begin{pmatrix} v_1 \\\\ v_2 \\end{pmatrix} = \\begin{pmatrix} 0 \\\\ 0 \\end{pmatrix}$$\n",
    "\n",
    "so $2v_1 = v_2$\n",
    "\n",
    "the eigenvector in this case is $\\begin{pmatrix} 1 \\\\ 2 \\end{pmatrix}$\n",
    "\n",
    "## general solution\n",
    "\n",
    "for distinct real eigenvalues $\\lambda_1, \\lambda_2, ... \\lambda_n$ and eigenvectors $\\eta_1, \\eta_2, ... \\eta_n$ the general solution takes the form\n",
    "\n",
    "$$ x = c_1 e^{\\lambda_1 t} \\eta_1 + c_2 e^{\\lambda_2 t} \\eta_2 + ... + c_n e^{\\lambda_n t} \\eta_n$$\n",
    "\n",
    "plugging in the known values\n",
    "\n",
    "$$x(t) = c_1 \\begin{pmatrix} -2 \\\\ 1 \\end{pmatrix} e^{0t} + c_2 \\begin{pmatrix} 1 \\\\ 2 \\end{pmatrix} e^{5 t}$$\n",
    "\n",
    "which finally is \n",
    "\n",
    "$$x(t) = c_1 \\begin{pmatrix} -2 \\\\ 1 \\end{pmatrix} + c_2 \\begin{pmatrix} 1 \\\\ 2 \\end{pmatrix} e^{5 t} $$\n",
    "\n",
    "## linear independence \n",
    "\n",
    "to check if they are linearly independent you take the two sides of the equation and find their determinant if its non-zero then they are linearly independent\n",
    "\n",
    "$$\\begin{vmatrix}\n",
    "-2 & e^{5t} \\\\\n",
    "1 & 2e^{5t}\n",
    "\\end{vmatrix} = -4e^{5t} - e^{5t} = -5e^{5t}$$\n",
    "which is not zero"
   ]
  },
  {
   "cell_type": "markdown",
   "metadata": {},
   "source": [
    "# using Laplace transform to solve Differential equations\n",
    "\n",
    "this is just a quick review on how to solve differential equations using Laplace\n",
    "\n",
    "## problem\n",
    "\n",
    "$$y'' + 5y' + 6y = 0 ~~~~~\\text{where:}~~ y(0) =2 ~~~ y'(0) = 3$$\n",
    "\n",
    "first take the Laplace transform of both sides\n",
    "\n",
    "$$\\mathcal{L}\\{y''\\} + 5\\mathcal{L}\\{y'\\} + 6\\mathcal{L}\\{y\\} = \\mathcal{L}\\{0\\}$$\n",
    "\n",
    "$$ \\mathcal{L}\\{y^{n}\\} = s^{n} \\mathcal{L}\\{y\\} - s^{n-1}y(0) - ... - sy^{n-2}(0) - y^{n-1}(0)$$\n",
    "\n",
    "$$ s^2 \\mathcal{L}\\{y\\}-2s-3 + 5s\\mathcal{L}\\{y\\} - 2 + 6 \\mathcal{L}\\{y\\} = 0$$\n",
    "\n",
    "factor the Laplace\n",
    "\n",
    "$$ \\mathcal{L}\\{y\\} (s^2 + 5s + 6)- 2s -13 = 0$$\n",
    "\n",
    "get $\\mathcal{L}\\{y\\}$ by itself\n",
    "\n",
    "$$ \\mathcal{L}\\{y\\} = \\frac{2s + 13}{s^2 + 5s +6}$$\n",
    "\n",
    "inverse Laplace both sides\n",
    "\n",
    "$$\\mathcal{L^{-1}}\\{\\mathcal{L}\\{y\\}\\} = \\mathcal{L^{-1}}\\left\\{\\frac{2s + 13}{s^2 + 5s +6}\\right\\}$$\n",
    "\n",
    "$$y = e^{-3t}(9e^t -7)$$"
   ]
  },
  {
   "cell_type": "markdown",
   "metadata": {},
   "source": [
    "# Non homogeneous equations\n",
    "\n",
    "$$ y'' + y = \\text{sin} 2t ~~~~~\\text{where}~~ y(0) = 2~~~y'(0) = 1$$\n",
    "\n",
    "Laplace\n",
    "$$s^2 Y(s) - 2s - 1 + Y(s) = \\frac{2}{s^2 + 4}$$\n",
    "\n",
    "$$Y(s)(s^2 + 1) - 2s -1 = \\frac{2}{s^2 + 4}$$\n",
    "\n",
    "$$Y(s) = \\frac{\\frac{2}{s^2 + 4} + 2s + 1}{s^2 + 1}$$\n",
    "\n",
    "inverse Laplace\n",
    "\n",
    "$$ y = \\frac{1}{3}(5 \\text{sin}(t) - \\text{sin}(2t) + 6 \\text{cos}(t))$$"
   ]
  },
  {
   "cell_type": "markdown",
   "metadata": {},
   "source": [
    "## step function\n",
    "\n",
    "solving a differential equation with a step function using Laplace\n",
    "\n",
    "$$ y'' + 4y = \\text{sin}(t) - \\mu_{2\\pi} (t) - \\text{sin} (t-2\\pi) ~~~~~ \\text{where} ~~ y(0) = 0 ~~ y'(0) = 0$$\n",
    "\n",
    "Laplace transform\n",
    "\n",
    "$$s^2 \\mathcal{L}\\{y\\} - sy(0) - y'(0) + 4\\mathcal{L}\\{y\\} = \\frac{1}{s^2 + 1} - e^{-2\\pi s} \\frac{1}{s^2 + 1}$$ \n",
    "\n",
    "$$s^2 \\mathcal{L}\\{y\\}+ 4\\mathcal{L}\\{y\\} = \\frac{1}{s^2 + 1} - e^{-2\\pi s} \\frac{1}{s^2 + 1}$$ \n",
    "\n",
    "$$ \\mathcal{L}\\{y\\} ( s^2 + 4) = \\frac{1}{s^2 + 1} - \\frac{e^{-2\\pi s}}{s^2 + 1} $$\n",
    "\n",
    "$$\\mathcal{L}\\{y\\} = \\frac{\\frac{1}{s^2 + 1} - \\frac{e^{-2\\pi s}}{s^2 + 1}}{s^2 + 4}$$\n",
    "\n",
    "$$ y = \\frac{-2}{3} ( \\theta (t - 2 \\pi) - 1) \\text{sin}^2 \\bigl ( \\frac{t}{2} \\bigr ) \\text{sin} (t) $$"
   ]
  },
  {
   "cell_type": "markdown",
   "metadata": {},
   "source": [
    "# water tank notes\n",
    "![alt text](tank.png)\n",
    "\n",
    "first how do we find y(t)\n",
    "\n",
    "I know that the pressure at the bottom of a tank can be simulated as $\\rho g h$ where $\\rho$ is the density g is gravity and h is the depth of the water\n",
    "\n",
    "so y(t) will depend on $\\rho ghR$ and R will be the resistance and that can the cross sectional area or the material of the outlet. it can be lots of things. \n",
    "\n",
    "next i want to know what the rate of change in the volume stored\n",
    "\n",
    "$$\\frac{dV}{dt} = A \\frac{dh}{dt} = f_{in} - f_{out}$$\n",
    "\n",
    "i know what flow out is\n",
    "\n",
    "$$A \\frac{dh}{dt} + R \\rho g h = f_{in}$$\n",
    "\n",
    "which can be rearranged as \n",
    "\n",
    "$$\\frac{A}{R \\rho g} \\frac{dh}{dt} + h = \\frac{1}{R \\rho g} f_{in}$$\n",
    "\n",
    "this is time constant form. therefore\n",
    "\n",
    "$$\\tau \\frac{dh}{dt} + h = K f_{in} ~~~~~ \\text{where}~~ \\tau = \\frac{A}{R \\rho g} ~~~ K = \\frac{1}{R \\rho g}$$\n",
    "\n",
    "notice that if the cross sectional area is increased the time constant increases, if the resistance increases then $\\tau$ decreases"
   ]
  },
  {
   "cell_type": "markdown",
   "metadata": {},
   "source": [
    "# state spaces\n",
    "\n",
    "\n",
    "the state based system\n",
    "\n",
    "$$\\dot{\\pmb{q}}(t) =  \\pmb{A}\\pmb{q}(t) + \\pmb{B}u(t)$$\n",
    "$$ y(t) = \\pmb{C} \\pmb{q}(t) + Du(t)$$\n",
    "\n",
    "now i can take the laplace transform of this\n",
    "\n",
    "$$ s\\pmb{Q}(s) = \\pmb{A}\\pmb{Q}(s) + \\pmb{B}U(s)$$ \n",
    "\n",
    "$$ Y(s) = \\pmb{C} \\pmb{Q}(s) + DU(s)$$\n",
    "\n",
    "I want the transfer function $H(s) = \\frac{Y(s)}{U(s)}$ so now i need to remove Q(s) form the output so frist solve for q\n",
    "\n",
    "$$ s\\pmb{Q}(s) = \\pmb{A}\\pmb{Q}(s) + \\pmb{B}U(s)$$ \n",
    "\n",
    "$$ s\\pmb{Q}(s) -\\pmb{A}\\pmb{Q}(s) =  \\pmb{B}U(s)$$ u8\n",
    "\n",
    "$$ (s\\pmb{I}- \\pmb{A} ) \\pmb{Q}(s) = \\pmb{B}U(s)$$\n",
    "\n",
    "\n",
    "$$ \\pmb{Q}(s) = (s\\pmb{I} - \\pmb{A})^{-1} \\pmb{B}U(s)$$\n",
    "\n",
    "let $\\phi(s) =  (s\\pmb{I} - \\pmb{A})^{-1}$ \n",
    "\n",
    "leaving \n",
    "$$\\pmb{Q}(s) = \\pmb{\\phi}(s) \\pmb{b}U(s) $$\n",
    "\n",
    "now that I have $\\pmb{Q}(s)$ i can put it into y(s)\n",
    "\n",
    "original problem\n",
    "$$ Y(s) = \\pmb{C} \\pmb{Q}(s) + DU(s)$$\n",
    "replaced \n",
    "$$Y(s) = \\pmb{C}\\pmb{\\phi}(s) \\pmb{B}U(s) + DU(s)$$\n",
    "$$Y(s) = U(s)(\\pmb{C}\\pmb{\\phi}(s) \\pmb{B} + D)$$\n",
    "\n",
    "now simply divide U(s) to get the transfer function\n",
    "\n",
    "$$H(s) = \\frac{Y(s)} {U(s)}  =\\pmb{C}\\pmb{\\phi}(s) \\pmb{B} + D $$\n",
    "\n",
    "## example from the midterm\n",
    "\n",
    "\n",
    "$$ \\dot{x} = \\begin{pmatrix}\\dot{x_1} \\\\ \\dot{x_2} \\end{pmatrix} = \\begin{pmatrix} 0 & 1 \\\\ -2 & -3 \\end{pmatrix}  \\begin{pmatrix} x_1 \\\\ x_2\\end{pmatrix} + \\begin{pmatrix} 1 \\\\ 0 \\end{pmatrix} u $$\n",
    "$$ y = \\begin{pmatrix} 1 & \\alpha \\end{pmatrix} \\begin{pmatrix} x_1 \\\\ x_2\\end{pmatrix}$$\n",
    "\n",
    "$$s \\bar{I} - \\bar{A} = \\begin{pmatrix} s & 0 \\\\ 0 & s \\end{pmatrix} - \\begin{pmatrix} 0 & 1 \\\\ -2 & -3\\end{pmatrix} = \\begin{pmatrix} s & -1 \\\\ 2 & s + 3 \\end{pmatrix} \\Leftarrow sa$$\n",
    "\n",
    "$$\\phi = \\frac{1}{\\text{det} ~ sa} \\begin{pmatrix} d & -b \\\\ -c & a\\end{pmatrix} $$ \n",
    "\n",
    "$$ \\text{det}~ sa = s(s+3) - 2 (-1) = s^2 + 3s + 2$$\n",
    "\n",
    "$$ \\phi = \\frac{\\begin{pmatrix} s+3 & 1 \\\\ -2 & s \\end{pmatrix}}{s^2 + 3s + 2}$$\n",
    "\n",
    "$$ H(s) = \\begin{pmatrix} 1 & \\alpha \\end{pmatrix} \\frac{\\begin{pmatrix} s+3 & 1 \\\\ -2 & s \\end{pmatrix}}{s^2 + 3s + 2} \\begin{pmatrix} 1 \\\\ 0 \\end{pmatrix}$$\n",
    "\n",
    "$$ H(s) = \\frac{s + 3 - 2 \\alpha}{s^2 + 3s + 2}$$\n",
    "\n",
    "\n",
    "\n",
    "$$ \\dot{x} = \\begin{pmatrix}\\dot{x_1} \\\\ \\dot{x_2} \\\\ \\dot{x_3}\\end{pmatrix} = \\begin{pmatrix}0 & 0 & 0 \\\\ 0 & 0 & 0 \\\\0 & 0 & 1 \\end{pmatrix} \\begin{pmatrix} x_1 \\\\ x_2 \\\\ x_3 \\end{pmatrix}  +\\begin{pmatrix} 0 \\\\ 0 \\\\ 1 \\end{pmatrix} w $$\n",
    "$$ y = \\begin{pmatrix} 0&0&1 \\end{pmatrix} \\begin{pmatrix} x_1 \\\\ x_2 \\\\ x_3 \\end{pmatrix}$$\n",
    "\n",
    "$$s \\bar{I} - \\bar{A} = \\begin{pmatrix} s & 0 & 0  \\\\ 0 & s & 0 \\\\ 0 & 0 & s\\end{pmatrix}  - \\begin{pmatrix}0 & 0 & 0 \\\\ 0 & 0 & 0 \\\\0 & 0 & 1 \\end{pmatrix} = \\begin{pmatrix}s & 0 & 0 \\\\ 0 & s & 0 \\\\0 & 0 & s-1 \\end{pmatrix}$$\n",
    "\n",
    "\n",
    "this inverse can be done using row reduction\n",
    "\n",
    "$$\\phi = \\left[\\begin{array}{rrr|rrr} s & 0 & 0 & 1 & 0 & 0 \\\\ 0 & s & 0 & 0 & 1 & 0 \\\\0 & 0 & s-1 & 0 & 0 & 1 \\end{array}\\right] $$ \n",
    "$$\\frac{R_1}{s} \\rightarrow R_1 $$\n",
    "$$\\frac{R_2}{s} \\rightarrow R_2 $$\n",
    "$$\\frac{R_3}{s-1} \\rightarrow R_3 $$\n",
    "\n",
    "$$\\phi = \\begin{pmatrix} \\frac{1}{s} & 0 & 0 \\\\ 0 & \\frac{1}{s} & 0 \\\\0 & 0 & \\frac{1}{s-1} \\end{pmatrix}$$\n",
    "\n",
    "$$ H(s) = \\begin{pmatrix} \\frac{1}{s} & 0 & 0 \\\\ 0 & \\frac{1}{s} & 0 \\\\0 & 0 & \\frac{1}{s-1} \\end{pmatrix} \\begin{pmatrix}0 \\\\ 0 \\\\ 1 \\end{pmatrix} = \\begin{pmatrix} 0 \\\\ 0 \\\\ \\frac{1}{s-1}\\end{pmatrix}$$\n",
    "\n",
    "$$ \\begin{pmatrix} 0 & 0 & 1 \\end{pmatrix} \\begin{pmatrix} 0 \\\\ 0 \\\\ \\frac{1}{s-1}\\end{pmatrix} = \\frac{1}{s-1} $$\n",
    "\n",
    "\n",
    "### since the system is in series you can multiply the transfer function\n",
    "\n",
    "$$\\frac{s + 3 - 2 \\alpha}{s^2 + 3s + 2} \\cdot \\frac{1}{s-1}$$\n",
    "\n",
    "$$H(s)_{\\text{total}}= \\frac{s + 3 - 2 \\alpha}{s^2 + 3s + 2(s-1)}$$\n",
    "\n",
    "### find zeros \n",
    "\n",
    "$$ s = 2\\alpha - 3$$\n",
    "\n",
    "### find poles\n",
    "\n",
    "$$(s+2)(s+1)(s-1)= 0$$\n",
    "\n",
    "$$s = -2,~~-1,~~1$$\n",
    "\n",
    "Therefore the system is unstable and alpha has no effect on the stability of the system"
   ]
  },
  {
   "cell_type": "markdown",
   "metadata": {},
   "source": [
    "# class notes\n",
    "\n",
    "## feedback systems\n",
    "\n",
    "![fsf](fsf.jpeg)\n",
    "\n",
    "### these are the equations \n",
    " $$\\dot{x_1} = x_2 $$\n",
    "\n",
    "\n",
    " $$\\dot{x_2} = -0.125x_1 - 0.75x_2 + \\mu (t)$$\n",
    "\n",
    "\n",
    " $$y = x_1$$\n",
    "\n",
    " $$\\ddot{x} + 0.75\\dot{x} + 0.125x = \\mu(t)$$\n",
    "\n",
    "\n",
    " $$x_1 = x$$\n",
    "\n",
    " $$x_2 = \\dot{x}$$\n",
    "\n",
    "### the equation in state space form\n",
    "\n",
    " $$\\dot{x} = \\begin{pmatrix}\n",
    "  \\dot{x_1} \\\\\n",
    "  \\dot{x_2} \n",
    "  \\end{pmatrix} = \\begin{pmatrix}\n",
    "  0 & 1 \\\\\n",
    "  \\frac{1}{8} & \\frac{-3}{4} \n",
    "  \\end{pmatrix} \\begin{pmatrix}\n",
    "  x_1 \\\\\n",
    "  x_2 \n",
    "  \\end{pmatrix}$$\n",
    " given that\n",
    " $$ |\\lambda I - A | = 0 $$\n",
    "\n",
    "\n",
    " this is th\n",
    " $$ \\lambda^2 + \\frac{3}{4} \\lambda + \\frac{1}{8} =0 $$\n",
    "\n",
    " which gives the eigenvalues\n",
    " $$ \\lambda_2 = \\frac{1}{2}, ~~ \\lambda_2 = \\frac{-1}{4} $$\n",
    "\n",
    "A' is the digonal of eigen values\n",
    "\n",
    "$$ b' = P^{-1} b $$\n",
    "\n",
    "diagonalization of a state space\n",
    "\n",
    "\n",
    "\n",
    "the input signal\n",
    "$$ \\ddot{x} + 0.75\\dot{x} + 0.125x = \\mu $$\n",
    "\n",
    "\n",
    "\n",
    "$$ A' = p^{-1} A p $$\n",
    "$$ b' = p^{-1} b $$\n",
    "$$ c' = cp $$\n",
    "\n",
    "$$ \\dot{z} = \\Lambda z $$\n",
    "\n",
    "where \n",
    "\n",
    "$$ \\Lambda = \\begin{pmatrix}\n",
    " \\lambda_1 & 0 & 0 \\\\\n",
    " 0 & \\ddots & 0 \\\\\n",
    " 0 & 0 & \\lambda_n \n",
    " \\end{pmatrix} $$\n",
    "\n",
    "$$ \\Lambda = p^{-1} A p $$\n",
    "\n",
    "where p is a vector of eigenvalues\n",
    "\n",
    "$$ p = [v_1 \\dots v_n] $$\n",
    "\n",
    "remember that \n",
    "\n",
    "$$ e^{A t} = I + At + A^2 \\frac{t^2}{2!}\\dots $$\n",
    "\n",
    "we can derive that \n",
    "\n",
    "$$ A = p \\Lambda p^{-1}  $$\n",
    "$$ =  pI^{-1}p^{-1} + p\\Lambda p^{-1} t + p \\Lambda ^2 p^{-1} \\frac{t^2}{2!}+\\dots $$\n",
    "$$ =  p[I^{-1} + \\Lambda t +  \\Lambda ^2 \\frac{t^2}{2!}+\\dots]p^{-1} $$\n",
    "$$ = \\begin{pmatrix}\n",
    " e^{\\lambda_1 t} & &  \\\\\n",
    "   & \\ddots & \\\\\n",
    "  & & e^{\\lambda_n t} \n",
    " \\end{pmatrix}$$\n",
    "\n",
    "$$ A \\rightarrow e^{At} $$\n",
    "\n",
    "\n",
    "$$e^{At} = p\\begin{pmatrix}\n",
    " e^{\\lambda_1 t} & &  \\\\\n",
    "   & \\ddots & \\\\\n",
    "  & & e^{\\lambda_n t} \n",
    " \\end{pmatrix}p^{-1}$$\n",
    "\n",
    "### equilibrium\n",
    "\n",
    "$$ \\dot{x} = Ax+ bu ~~~~ \\text{if}~~ \\mu = 0 ~~ \\text{then}~~  x = 0,~~ \\dot{x} = 0$$\n",
    "\n",
    "equilibrium by definition \n",
    "\n",
    "$$ x = -A^{-1} b \\mu_0 $$\n",
    "\n",
    "we have eigenvalues \n",
    "$$ \\lambda_1,\\lambda_2,\\dots \\lambda_n $$\n",
    "\n",
    "$$ \\text{Re}(\\lambda_1)\\geq \\text{Re}(\\lambda_2)\\geq\\dots\\text{Re}(\\lambda_n)    $$\n",
    "$$ \\dot{x} = \\Lambda x $$\n",
    "\n",
    "$$e^{\\Lambda t} = \\begin{pmatrix}\n",
    " e^{\\Lambda_1 t} & &  \\\\\n",
    "   & \\ddots & \\\\\n",
    "  & & e^{\\Lambda_n t} \n",
    " \\end{pmatrix}$$\n",
    "\n",
    "\n",
    "$$ x(t) = e^{\\lambda_1 t} x_1(0) + \\dots + e^{\\lambda_n t} x_n(0) $$\n",
    "\n",
    "### example\n",
    "\n",
    "$$ \\dot{x} = Ax + bu $$\n",
    "\n",
    "where\n",
    "\n",
    "$$ A = \\begin{pmatrix}\n",
    " 0 & 1 & 0 \\\\\n",
    " 0 & 0 & 1 \\\\\n",
    " -1 & -5 & -6 \n",
    " \\end{pmatrix}\\begin{pmatrix}\n",
    " 0 \\\\\n",
    " 0 \\\\\n",
    " 1 \n",
    " \\end{pmatrix} $$\n",
    "\n",
    "which gives the characteristic equation \n",
    "$$ \\lambda^3 + 5\\lambda^2 + 6\\lambda + 1 = 0 $$\n",
    "\n",
    "$$ \\mu = kx $$\n",
    "$$ \\mu = \\begin{pmatrix}\n",
    " k_1 & k_2 & k_3 \n",
    " \\end{pmatrix}\\begin{pmatrix}\n",
    " x_1 \\\\\n",
    " x_2 \\\\\n",
    " x_3 \n",
    " \\end{pmatrix} $$\n",
    "\n",
    "$$ \\mu = k_1x_1 + k_2x_2 + k_3x_3 $$\n",
    "\n",
    "$$ \\dot{x} = Ax+bu = Ax+bkx $$\n",
    "$$ \\dot{x} = (A + bk)x $$\n",
    "\n",
    "$$ bk = \\begin{pmatrix}\n",
    " 0 \\\\\n",
    " 0 \\\\\n",
    " 1 \n",
    " \\end{pmatrix}\\begin{pmatrix}\n",
    " k_1 & k_2 & k_3 \n",
    " \\end{pmatrix} $$\n",
    "\n",
    "$$ bk = \\begin{pmatrix}\n",
    " 0 & 0 & 0 \\\\\n",
    " 0 & 0 & 0 \\\\\n",
    " k_1 & k_2 & k_3 \n",
    " \\end{pmatrix} $$\n",
    "\n",
    "$$ A + bk = \\begin{pmatrix}\n",
    " 0 & 1 & 0 \\\\\n",
    " 0 & 0 & 1 \\\\\n",
    " -1+k_1 & -5+k_2 & -6+k_3 \n",
    " \\end{pmatrix} $$\n",
    "\n",
    "the characteristic equation\n",
    "\n",
    "$$ \\lambda^3 + (6 - k_3)\\lambda^2 + (5-k_2)\\lambda +(1-k) = 0$$\n",
    "\n",
    "lets say i want the eigenvalues to be $-2\\pm j4$ and -10\n",
    "\n",
    "$$ (\\lambda^3 + 10) + (\\lambda - (-2+j4)) (\\lambda - (-2-j4))$$\n",
    "\n",
    "$$ \\lambda^3 + 14\\lambda^2 + 60\\lambda+200 $$\n",
    "\n",
    "the open loop equation is\n",
    "\n",
    "$$ x^3 + 6x^2 + 5x^2 + 1 $$\n",
    "\n",
    "$$ k_3 = 8, ~~ k_2 = 55 ~~ k_1 = 199 $$\n",
    "\n",
    "if the system is completely controllable then the eigenvalues of the closed loop system with full state feedback can be placed anywhere\n",
    "\n",
    " "
   ]
  },
  {
   "cell_type": "markdown",
   "metadata": {},
   "source": [
    "## discrete time\n",
    "\n",
    "the state of a linear, time-invariant physical discrete-time system is assumed to satisfy\n",
    "\n",
    "$$ x(k + 1) = Ax(k) + bu(k) $$\n",
    "$$ y(k) = Cx(k) + Du(k) $$\n",
    "\n",
    "where at time k, x(k) is the plants state $\\mu(k)$ is its inputs and y(k) is its outputs. \n",
    "\n",
    "\n",
    "now the observer model\n",
    "\n",
    "$$ \\hat{x}(k+1) = A \\hat{x}(k) + L[y(k) - \\hat{y}(k)] +Bu(k)$$\n",
    "\n",
    "$$ \\hat{y}(k) C\\hat{x}(k) + Du(k) $$\n",
    "\n",
    "note that the observer model has a hat to differentiate it from the normal one. L is some matrix \n",
    "\n",
    "the observer is called asymptotically stable if hte observer error $e(k) = \\hat{x}(k) - x(k)$ converges to zero when $k\\rightarrow \\infty$ for a luenberger observer, the observer error satisfies $e(k+1) = (A - LC) e(k)$. the luenberger observer for this discrete-time system is therefore asymptotically stable when the matrix A - LC has all the eigenvalues inside the unit circle.\n",
    "for control purposes the output of the observer system is fed back to the input of both the observer and the plant through the gains matrix k\n",
    "\n",
    "$$ u(k) = -k \\hat{x}(k) $$\n",
    "\n",
    "the observer equations then become:\n",
    "\n",
    "$$ \\hat{x} (k+1) = A \\hat{x} (k) + L(y(k) - \\hat{y}(k)) - BK \\hat{x} (k) $$\n",
    "\n",
    "$$ \\hat{y}(k) = C \\hat{x}(k) - DK \\hat{x}(k) $$\n",
    "\n",
    "or more simply\n",
    "\n",
    "$$ \\hat{x}(k+1) = (A - BK) \\hat{x}(k)+L(y(k) - \\hat{y}(k)) $$\n",
    "$$ \\hat{y}(k) = (C - DK) \\hat{x}(k) $$\n",
    "\n",
    "due to separation  principle we know that we can choose k and l independently without harm to the overall stability of the systems. as a rule of thumb the poles of the observer A - LC are usually chosen to converge 10 times faster than the poles of the system A - BK\n",
    "\n",
    "## continuous-time\n",
    "\n",
    "The processes is similar\n",
    "\n",
    "$$ \\dot{x} = Ax + Bu $$\n",
    "$$ y = Cx + Du $$\n",
    "\n",
    "where $x \\in R^n ~~ u \\in R^m ~~ y \\in R^r$\n",
    "\n",
    "$$\\dot{x} = A \\hat{x} + Bu + L(y - \\hat{y})$$\n",
    "$$ \\hat{y} = C \\hat{x} + Du $$\n",
    "\n",
    "The observer error $e = x -\\hat{x}$\n",
    "\n",
    "$$ \\dot{e} = (A - LC) e$$\n",
    "\n",
    "the eigenvalues of the matrix A - LC can be chosen arbitrarily by appropriate choice of the observer gain L when the pair [A,C] is observability condition holds. in particular it can be made Hurwitz so the observer error $$e(t) \\rightarrow 0 ~~ \\text{when} ~~ t\\rightarrow \\infty$$"
   ]
  },
  {
   "cell_type": "markdown",
   "metadata": {},
   "source": [
    "# controllability and observability\n",
    "\n",
    "## controllability\n",
    "\n",
    "A system is controllable if there exists a control that can transition a system from an arbitrary initial condition to an arbitrary final condition in finite time\n",
    "\n",
    "if your system is linear $\\dot{x}(t) = Ax(t) + Bu(t)$\n",
    "\n",
    "You have a matrix A that is nxn then the controllability matrix is \n",
    "\n",
    "$$ C = [B~ AB~ A^2B~ A^3B~ \\dots ~A^{n-1}B] $$\n",
    "\n",
    "The system is controllable iff rank(c) = n\n",
    "\n",
    "### example\n",
    "\n",
    "$$ \\dot{x}(t) = \\begin{pmatrix}\n",
    " 0 & 3 \\\\\n",
    " 2 & 4 \n",
    " \\end{pmatrix} x(t) + \\begin{pmatrix}\n",
    " -2 \\\\\n",
    " 1 \n",
    " \\end{pmatrix}u $$\n",
    "\n",
    "$$C = \\begin{pmatrix}\n",
    " B & AB \n",
    " \\end{pmatrix}$$\n",
    "\n",
    "$$ C = \\begin{pmatrix}\n",
    " -2 & 3 \\\\\n",
    " 1 & 0 \n",
    " \\end{pmatrix} $$\n",
    "\n",
    "check the rank of this matrix and it equals 2 therefore this system is controllable\n",
    "\n",
    "## observability\n",
    "\n",
    "Are all the states measurable?\n",
    "\n",
    "the procedure to find this is relatively the same you create a matrix and find its rank. if it is rank deficient then the system is not observable.\n",
    "\n",
    "the Observability matrix is \n",
    "\n",
    "$$ o = \\begin{pmatrix}\n",
    " C \\\\\n",
    " CA \\\\\n",
    " CA^2 \\\\\n",
    " \\vdots \\\\\n",
    " CA^{n-1} \n",
    " \\end{pmatrix} $$\n",
    "\n",
    "if rank(o) is rank deficient then the system is not observable"
   ]
  },
  {
   "cell_type": "markdown",
   "metadata": {},
   "source": [
    "# Pole Placement\n",
    "\n",
    "For this I used [full state feedback](https://en.wikipedia.org/wiki/Full_state_feedback#:~:text=Full%20state%20feedback%20(FSF)%2C,locations%20in%20the%20s%2Dplane.)\n",
    "\n",
    "lets  start with the linear state space \n",
    "\n",
    "$$ \\dot{x}(t) = Ax(t) + Bu(t) $$\n",
    "$$ y(t) = Cx(t) + Du(t) $$\n",
    "\n",
    "\n",
    "lets assume that C = I meaning C is equal to the identity matrix and D = 0\n",
    "\n",
    "Therefore y(t) = x(t)\n",
    "\n",
    "![regulator](regulator.jpg)\n",
    "\n",
    "If we have this system lets consider a control law that is $u(t) = -K x(t)$\n",
    "\n",
    "This is the control law for full state feedback (FSF) K is considered a regulator because it regulates non zero inputs back to the origin \n",
    "\n",
    "we can rewrite the linear state space equation as $\\dot{x}(t) = [A - BK]x(t)$ The eigenvalues of [A-BK] control the system\n",
    "\n",
    "we can move the eigenvalues of [A - Bk] by changing K iff A,B are controllable. \n",
    "\n",
    "## Example:\n",
    "\n",
    "take this controllable system\n",
    "\n",
    "$$ \\dot{x} (t) = \\begin{pmatrix}\n",
    " 0 & 3 \\\\\n",
    " 2 & 4 \n",
    " \\end{pmatrix}x(t) + \\begin{pmatrix}\n",
    " -2 \\\\\n",
    " 1 \n",
    " \\end{pmatrix}u(t) $$\n",
    "\n",
    "I've discussed controllability in previous sections. In short the controllability matrix is full rank.\n",
    "\n",
    "look at the control law $u(t) = - kx(t)$ k is a matrix that looks like $[k_1 k_2]$ now I'll do A-bk\n",
    "\n",
    "$$\\begin{pmatrix}\n",
    " 0 & 3 \\\\\n",
    " 2 & 4 \n",
    " \\end{pmatrix} - \\begin{pmatrix}\n",
    " -2 \\\\\n",
    " 1 \n",
    " \\end{pmatrix}  (k_1 k_2) = \\begin{pmatrix}\n",
    " 2k_1 & 3+2k_2 \\\\\n",
    " 2-k_1 & 4-k_2 \n",
    " \\end{pmatrix}$$\n",
    "\n",
    "as you can see the k's get into every part of the matrix. meaning that if you change the k's you can change the eigenvalues of the matrix. to get the eigenvalues use $\\text{det}(\\lambda I - [A-BK]) = 0$ doing this on the equation above ill get the eigenvalues of $\\lambda^2 + (-4 -2k_1 +k_2)\\lambda + 11k_1 - 6 - 4k_2 = 0$ this is the characteristic equation of the closed loop system under full state feedback using k_1 k_2. now its just a question of where should the poles go?\n",
    "\n",
    "Suppose i want the closed loop eigenvalues at $-5 \\pm 2i$. that means i want the characteristic equation to look like $(\\lambda + 5-2i) (\\lambda + 5 +2i)$ which expands $\\lambda^2 + 10\\lambda + 29$ all i need to do is compare the coefficients of lambda and the constants. for lambda $-4-2k_1 +k_2 = 10$ for the constant $11k_1 - 6 - 4k_2 = 29$ which gives $k_1 = 30.33$ and $k_2 = 74.67$\n"
   ]
  },
  {
   "cell_type": "markdown",
   "metadata": {},
   "source": [
    "# Root locus\n",
    "A root locus is a graph that shows the output on the s plane with varying levels of K\n",
    "\n",
    "\n",
    "There are a few rules for root locus.\n",
    "\n",
    "consider an open loop transfer function\n",
    "$$ G(s) = \\frac{a(s)}{b(s)} = \\frac{\\alpha (s+z_1)(s+z_2)\\dots (s+z_m)}{(s+p_1)(s+p_2)\\dots(s+p_n)} $$\n",
    "\n",
    "m = number of zeros and n = number of poles, assume $\\alpha > 0$ $n \\geq m$ and $k \\in [0,+\\infty]$ \n",
    "\n",
    "Rule 1: number of poles is unchanged, number of poles = n\n",
    "\n",
    "Rule 2: closed loop poles start at open poles and go to either one of two scenarios\n",
    "\n",
    "a) end at open loop zeros (m poles will go here)\n",
    "\n",
    "B) end at zeros at infinity (n - m poles go here)\n",
    "\n",
    "Rule 3: valid regions on the real axis are to the left of odd numbered poles/zeros (start numbering from right to left)\n",
    "\n",
    "Rule 4: angle of asymptotes\n",
    "\n",
    "angle of asymptotes is equal to\n",
    "$$ \\phi _a = \\frac{1 \\pm 2k \\pi}{n - m} ~~ \\text{where} ~~ k=0,1,\\dots n-m-1$$ \n",
    "\n",
    "centroid of asymptotes is equal to\n",
    "\n",
    "$$ \\sigma_a = \\frac{\\sum^n_{k=1} (-p_k) - \\sum^m_{k=1}(-z_k)}{n-m} $$\n",
    "\n",
    "Rule 5: angle of departure from a complex pole\n",
    "\n",
    "$$ \\theta _j = \\angle(s_j + p_j) = \\pi \\pm 2\\pi k + \\sum^m_{i=1} \\angle(p_j + z_j) - \\sum^n_{i=1,i\\neq j} \\angle(p_j+p_i)  $$\n",
    "\n",
    "however drawing root locus by hand is vary rarely done. I will end out this section a python example.\n",
    "\n",
    "## example\n",
    "\n",
    "take the transfer function \n",
    "$$ \\frac{s-1}{s+3}$$"
   ]
  },
  {
   "cell_type": "code",
   "execution_count": 11,
   "metadata": {},
   "outputs": [
    {
     "data": {
      "image/png": "[encoded data removed]",
      "text/plain": [
       "<Figure size 432x288 with 1 Axes>"
      ]
     },
     "metadata": {
      "needs_background": "light"
     },
     "output_type": "display_data"
    }
   ],
   "source": [
    "import numpy as np\n",
    "import control as ctl\n",
    "\n",
    "num = [1, -1]\n",
    "den = [1, 3]\n",
    "\n",
    "tf = ctl.tf(num,den)\n",
    "ctl.rlocus(tf)\n",
    "plt.show()"
   ]
  },
  {
   "cell_type": "markdown",
   "metadata": {},
   "source": [
    "This shows how the poles move through the S plane as you move k. The lines in the map are the lines of constant damping ratio"
   ]
  },
  {
   "cell_type": "markdown",
   "metadata": {},
   "source": [
    "# PID control\n",
    "\n",
    "![pid controller](PID_en.svg.png)\n",
    "\n",
    "\n",
    "e(t) is the error value, as the difference between a desired setpoint SP = r(t) and measured process variable PV = y(t): e(t) = r(t) - y(t)\n",
    "\n",
    "PID is made up of 3 parts\n",
    "\n",
    "## Term P \n",
    "\n",
    "P is proportional to the current value of the SP-PV error e(t) for example if the error is large and positive the control output will be proportionately large and positive, taking into account the gain factor \"K\". using proportional control alone will result in an error between the setpoint and the actual process value.\n",
    "\n",
    "## Term I\n",
    "\n",
    "I Accounts for the past values of SP - PV error and integrates them over time to produce the I term. For example, if there is a residual SP - PV error after the application of proportional control, the integral term seeks to eliminate the residual error by adding a control effect due to the historic cumulative value of the error. When the error is eliminated, the integral term will cease to grow. This is will result in the proportional effect diminishing as the error decreases, but this is compensated for by the growing integral effect.\n",
    "\n",
    "## Term D\n",
    "\n",
    "D is a best estimate of the future trend of the SP-PV error, based on its current rate of change. It is sometimes called \"anticipatory control\" as it is effectively seeking to reduce the effect of SP-PV error by exerting a control influence generated by the rate of error change. The more rapid the change the greater the controlling or dampening effect\n",
    "\n",
    "\n",
    "## tuning\n",
    "The balance of these effects is achieved by looping to produce the optimal function. The tuning constants K are derived for each application. meaning we can change the K values to get the proper response we desire.\n",
    "\n",
    "## Math\n",
    "\n",
    "the control function for PID is \n",
    "\n",
    "$$ u(t) = K_p e(t) + k_i \\int^t_0 e(t') dt' + K_d \\frac{de(t)}{dt}$$ \n",
    "\n",
    "In the s domain \n",
    "\n",
    "$$ G(s) = k_p + \\frac{k_i}{s} + k_d s$$\n",
    "\n",
    "Where $k_p, k_i, k_d$ are all non negative. \n",
    "\n",
    "\n",
    "I will now show the effect of each element on a signal\n",
    "\n",
    "This signal is $\\frac{1}{s^2 + 3s + 2}$"
   ]
  },
  {
   "cell_type": "code",
   "execution_count": 12,
   "metadata": {},
   "outputs": [
    {
     "name": "stdout",
     "output_type": "stream",
     "text": [
      "ORIGINAL transfer function\n",
      "\n",
      "\n",
      "      1\n",
      "-------------\n",
      "s^2 + 3 s + 2\n",
      "\n"
     ]
    },
    {
     "data": {
      "text/plain": [
       "[<matplotlib.lines.Line2D at 0x7f51b22e1c40>]"
      ]
     },
     "execution_count": 12,
     "metadata": {},
     "output_type": "execute_result"
    },
    {
     "data": {
      "image/png": "[encoded data removed]",
      "text/plain": [
       "<Figure size 432x288 with 1 Axes>"
      ]
     },
     "metadata": {
      "needs_background": "light"
     },
     "output_type": "display_data"
    }
   ],
   "source": [
    "import control as ctl\n",
    "\n",
    "\n",
    "num = 1\n",
    "den = [1, 3, 2]\n",
    "original_tf = ctl.tf(num,den)\n",
    "\n",
    "print('ORIGINAL transfer function\\n')\n",
    "print(original_tf)\n",
    "T, yout = ctl.step_response(original_tf)\n",
    "plt.grid(True)\n",
    "plt.title('Original step response')\n",
    "plt.xlabel('seconds')\n",
    "plt.ylabel('amplitude')\n",
    "plt.plot(T,yout)"
   ]
  },
  {
   "cell_type": "markdown",
   "metadata": {},
   "source": [
    "First i will show what effect $k_p$ has on the system\n",
    "\n",
    "The transfer function with the controller in it is \n",
    "\n",
    "$$T_f = \\frac{k_d s^2 + k_p s +k_i}{s^3+(k_d+3)s^2+(k_p + 2)s +k_i} $$"
   ]
  },
  {
   "cell_type": "code",
   "execution_count": 13,
   "metadata": {},
   "outputs": [
    {
     "data": {
      "text/plain": [
       "<matplotlib.legend.Legend at 0x7f51b2f5e340>"
      ]
     },
     "execution_count": 13,
     "metadata": {},
     "output_type": "execute_result"
    },
    {
     "data": {
      "image/png": "[encoded data removed]",
      "text/plain": [
       "<Figure size 432x288 with 1 Axes>"
      ]
     },
     "metadata": {
      "needs_background": "light"
     },
     "output_type": "display_data"
    }
   ],
   "source": [
    "kp_range = [3, 5, 10]\n",
    "ki = 0\n",
    "kd = 0\n",
    "\n",
    "for kp in kp_range:\n",
    "    num = [kd,kp,ki]\n",
    "    den = [1, kd+3,kp+2,ki]\n",
    "    final_tf = ctl.tf(num,den)\n",
    "    T, yout = ctl.step_response(final_tf)\n",
    "    plt.plot(T,yout,label=\"kp = \" +str(kp))\n",
    "plt.grid(True)\n",
    "plt.title('kp sweep')\n",
    "plt.xlabel('seconds')\n",
    "plt.ylabel('amplitude')\n",
    "plt.legend()"
   ]
  },
  {
   "cell_type": "markdown",
   "metadata": {},
   "source": [
    "as you can see when you increase kp it makes the gain higher but the output more wiggly\n",
    "\n",
    "now change ki while the others are constant"
   ]
  },
  {
   "cell_type": "code",
   "execution_count": 14,
   "metadata": {},
   "outputs": [
    {
     "data": {
      "text/plain": [
       "<matplotlib.legend.Legend at 0x7f51b2301bb0>"
      ]
     },
     "execution_count": 14,
     "metadata": {},
     "output_type": "execute_result"
    },
    {
     "data": {
      "image/png": "[encoded data removed]",
      "text/plain": [
       "<Figure size 432x288 with 1 Axes>"
      ]
     },
     "metadata": {
      "needs_background": "light"
     },
     "output_type": "display_data"
    }
   ],
   "source": [
    "kp = 0\n",
    "ki_range = [0.5, 2, 3]\n",
    "kd = 0\n",
    "\n",
    "for ki in ki_range:\n",
    "    num = [kd,kp,ki]\n",
    "    den = [1, kd+3,kp+2,ki]\n",
    "    final_tf = ctl.tf(num,den)\n",
    "    T, yout = ctl.step_response(final_tf)\n",
    "    plt.plot(T,yout,label=\"ki = \" +str(ki))\n",
    "plt.grid(True)\n",
    "plt.title('ki sweep')\n",
    "plt.xlabel('seconds')\n",
    "plt.ylabel('amplitude')\n",
    "plt.legend()"
   ]
  },
  {
   "cell_type": "markdown",
   "metadata": {},
   "source": [
    "This makes the signal a lot more wiggly. the values for ki have a big effect on the output. ki=10 makes the output oscillate violently. This indicates that the integral term is proportional to both magnitude of the error and the duration of the error\n",
    "\n",
    "Next we have the derivative term"
   ]
  },
  {
   "cell_type": "code",
   "execution_count": 15,
   "metadata": {},
   "outputs": [
    {
     "data": {
      "text/plain": [
       "<matplotlib.legend.Legend at 0x7f51b226d7c0>"
      ]
     },
     "execution_count": 15,
     "metadata": {},
     "output_type": "execute_result"
    },
    {
     "data": {
      "image/png": "[encoded data removed]",
      "text/plain": [
       "<Figure size 432x288 with 1 Axes>"
      ]
     },
     "metadata": {
      "needs_background": "light"
     },
     "output_type": "display_data"
    }
   ],
   "source": [
    "kp = 0\n",
    "ki = 0\n",
    "kd_range = [0.5, 2, 3]\n",
    "\n",
    "for kd in kd_range:\n",
    "    num = [kd,kp,ki]\n",
    "    den = [1, kd+3,kp+2,ki]\n",
    "    final_tf = ctl.tf(num,den)\n",
    "    T, yout = ctl.step_response(final_tf)\n",
    "    plt.plot(T,yout,label=\"kd = \" +str(kd))\n",
    "plt.grid(True)\n",
    "plt.title('kd sweep')\n",
    "plt.xlabel('seconds')\n",
    "plt.ylabel('amplitude')\n",
    "plt.legend()"
   ]
  },
  {
   "cell_type": "markdown",
   "metadata": {},
   "source": [
    "As you can see the derivative value produces a spike then returns to the origin. this is used to smooth out the final state value"
   ]
  },
  {
   "cell_type": "markdown",
   "metadata": {},
   "source": [
    "# system requirements\n",
    "\n",
    "The system requirements that we focused on in this class is\n",
    "\n",
    "Steady state error: the value at the final state of the system\n",
    "\n",
    "Overshoot: the percentage the signal goes over the target\n",
    "\n",
    "settling time: the time it takes for the system to settle. This can all be done with the step info command\n",
    "\n",
    "We we can change the values for the response of theses systems by either doing pole placement or PID control"
   ]
  },
  {
   "cell_type": "code",
   "execution_count": 16,
   "metadata": {},
   "outputs": [
    {
     "name": "stdout",
     "output_type": "stream",
     "text": [
      "ORIGINAL transfer function\n",
      "\n",
      "\n",
      "      1\n",
      "-------------\n",
      "s^2 + 3 s + 2\n",
      "\n",
      "{'RiseTime': 2.571571571571572, 'SettlingTime': 4.51951951951952, 'SettlingMin': 0.44937395164782734, 'SettlingMax': 0.49908853379880513, 'Overshoot': 0.0, 'Undershoot': 0.0, 'Peak': 0.49908853379880513, 'PeakTime': 7.0, 'SteadyStateValue': 0.49908853379880513}\n"
     ]
    },
    {
     "data": {
      "image/png": "[encoded data removed]",
      "text/plain": [
       "<Figure size 432x288 with 1 Axes>"
      ]
     },
     "metadata": {
      "needs_background": "light"
     },
     "output_type": "display_data"
    }
   ],
   "source": [
    "num = 1\n",
    "den = [1, 3, 2]\n",
    "original_tf = ctl.tf(num,den)\n",
    "\n",
    "print('ORIGINAL transfer function\\n')\n",
    "print(original_tf)\n",
    "T, yout = ctl.step_response(original_tf)\n",
    "plt.grid(True)\n",
    "plt.title('Original step response')\n",
    "plt.xlabel('seconds')\n",
    "plt.ylabel('amplitude')\n",
    "plt.plot(T,yout)\n",
    "print(ctl.step_info((original_tf)))"
   ]
  },
  {
   "cell_type": "code",
   "execution_count": 17,
   "metadata": {},
   "outputs": [
    {
     "name": "stdout",
     "output_type": "stream",
     "text": [
      "{'RiseTime': 2.4214192314733403, 'SettlingTime': 21.792773083260066, 'SettlingMin': 0.8160767402711524, 'SettlingMax': 1.3282062522996014, 'Overshoot': 32.894395513378825, 'Undershoot': 0.0, 'Peak': 1.3282062522996014, 'PeakTime': 4.55226815516988, 'SteadyStateValue': 0.9994448954515072}\n"
     ]
    },
    {
     "data": {
      "image/png": "[encoded data removed]",
      "text/plain": [
       "<Figure size 432x288 with 1 Axes>"
      ]
     },
     "metadata": {
      "needs_background": "light"
     },
     "output_type": "display_data"
    }
   ],
   "source": [
    "kp_range = [2]\n",
    "ki_range = [3]\n",
    "kd_range = [2]\n",
    "\n",
    "for kd in kd_range:\n",
    "    for ki in ki_range:\n",
    "        for kd in kd_range:\n",
    "            num = [kd,kp,ki]\n",
    "            den = [1, kd+3,kp+2,ki]\n",
    "            final_tf = ctl.tf(num,den)\n",
    "            T, yout = ctl.step_response(final_tf)\n",
    "            plt.plot(T,yout,label=\"kd = \" +str(kd) + \" ki = \" +str(ki) +\" kd = \" +str(kd))\n",
    "plt.grid(True)\n",
    "plt.title('step_info proof plot')\n",
    "plt.xlabel('seconds')\n",
    "plt.ylabel('amplitude')\n",
    "plt.legend()\n",
    "print(ctl.step_info(final_tf))"
   ]
  },
  {
   "cell_type": "markdown",
   "metadata": {},
   "source": [
    "as you can see the step info is different proving you can change the step response by changing these values"
   ]
  }
 ],
 "metadata": {
  "kernelspec": {
   "display_name": "Python 3",
   "language": "python",
   "name": "python3"
  },
  "language_info": {
   "codemirror_mode": {
    "name": "ipython",
    "version": 3
   },
   "file_extension": ".py",
   "mimetype": "text/x-python",
   "name": "python",
   "nbconvert_exporter": "python",
   "pygments_lexer": "ipython3",
   "version": "3.9.0"
  }
 },
 "nbformat": 4,
 "nbformat_minor": 4
}
